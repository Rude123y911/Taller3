{
  "cells": [
    {
      "cell_type": "code",
      "source": [
        "pip install gapminder"
      ],
      "metadata": {
        "id": "0unwaXK_6lME"
      },
      "id": "0unwaXK_6lME",
      "execution_count": null,
      "outputs": []
    },
    {
      "cell_type": "markdown",
      "source": [
        "Se debe instalar gapminder para que el programa sepa con cuales datos va a trabajae"
      ],
      "metadata": {
        "id": "MC8dLp9f7kvH"
      },
      "id": "MC8dLp9f7kvH"
    },
    {
      "cell_type": "code",
      "execution_count": 4,
      "id": "c33f603b",
      "metadata": {
        "id": "c33f603b"
      },
      "outputs": [],
      "source": [
        "import pandas as pd\n",
        "import numpy as np\n",
        "import seaborn as sns\n",
        "import matplotlib.pyplot as plt\n",
        "from gapminder import gapminder"
      ]
    },
    {
      "cell_type": "markdown",
      "id": "0a89fbf4",
      "metadata": {
        "id": "0a89fbf4"
      },
      "source": [
        "Exportar el conjunto de datos gapminder en formato “xlsx”. El 10 % de los valores de las columnas lifeEx, pop, y gdpPercap se debe reemplazar de forma aleatoria por valores no asignados NA.\n",
        "\n",
        "Importar el archivo gapminder en formato “xlsx”.\n",
        "\n",
        "Graficar el diagrama de dispersi ́on lifeEx vs pop.\n",
        "\n",
        "Graficar el diagrama de dispersi ́on gdpPercap vs pop.\n",
        "\n",
        "Graficar los diagramas de cajas de la variable gdpPercap discriminados por continentes desde 1990 a 2007."
      ]
    },
    {
      "cell_type": "code",
      "execution_count": 5,
      "id": "dbfeb5d7",
      "metadata": {
        "id": "dbfeb5d7"
      },
      "outputs": [],
      "source": [
        "def fill_df(df):\n",
        "    \n",
        "    # Exportar el conjunto de datos gapminder en formato “xlsx”. El 10 % de los valores de las columnas lifeEx, pop, y gdpPercap \n",
        "    # se debe reemplazar de forma aleatoria por valores no asignados NA.\n",
        "    \n",
        "    tam = len(df)\n",
        "    df_copy = df.copy()\n",
        "    for i in [\"pop\", \"lifeExp\", \"gdpPercap\"]:\n",
        "        lista = np.random.permutation(tam)[:int(tam*0.1)]\n",
        "        df_copy.loc[lista,i] = np.nan\n",
        "    \n",
        "    df_copy.to_excel(\"gapminder.xlsx\")\n",
        "    \n",
        "def read_df():\n",
        "    \n",
        "    # Importar el archivo gapminder en formato “xlsx”.\n",
        "    \n",
        "    return pd.read_excel(\"gapminder.xlsx\")\n",
        "\n",
        "def dispersion1(df):\n",
        "    \n",
        "    # Hacer un grafico de dispersion\n",
        "    \n",
        "    sns.scatterplot(x = df[\"lifeExp\"], y = np.log(df[\"pop\"]), hue = df[\"continent\"])\n",
        "    plt.pause(0.0001)\n",
        "\n",
        "def dispersion2(df):\n",
        "    \n",
        "    # Hacer un grafico de dispersion\n",
        "    \n",
        "    sns.scatterplot(x = np.log(df[\"gdpPercap\"]), y = np.log(df[\"pop\"]), hue = df[\"continent\"])\n",
        "    plt.pause(0.0001)\n",
        "    \n",
        "def cajas(df):\n",
        "    \n",
        "    # Graficar los diagramas de cajas de la variable gdpPercap discriminados por continentes desde 1990 a 2007.\n",
        "    over2007 = df[df.year > 1989]\n",
        "    sns.boxplot(data = df, y = np.log(df[\"gdpPercap\"]), x = \"continent\")\n",
        "    plt.pause(0.0001)"
      ]
    },
    {
      "cell_type": "code",
      "execution_count": 6,
      "id": "bc2333ea",
      "metadata": {
        "id": "bc2333ea"
      },
      "outputs": [],
      "source": [
        "def menu(df):\n",
        "    opciones = \"\"\"  Opcion (1): Guardar el dataframe con valores NA.\n",
        "  Opcion (2): Leer el dataframe.\n",
        "  Opcion (3): Hacer la grafica de dispersion de la expectativa de vida y poblacion.\n",
        "  Opcion (4): Hacer la grafica de dispersion del PIB contra poblacion.\n",
        "  Opcion (5): Hacer la grafica de cajas del PIB por contienente desde 1990.\n",
        "  Opcion (6): Volver a mostrar el menu.\n",
        "  Opcion (7): Salir.\"\"\"\n",
        "    \n",
        "    print(opciones)\n",
        "    \n",
        "    while(True):\n",
        "\n",
        "        option = input(\"Ingresa la opcion que deseas ejecutar: \")\n",
        "\n",
        "        if(option == \"1\"):\n",
        "            fill_df(df)\n",
        "\n",
        "        elif (option == \"2\"):\n",
        "            df = read_df()\n",
        "\n",
        "        elif (option == \"3\"):\n",
        "            dispersion1(df)\n",
        "\n",
        "        elif (option == \"4\"):\n",
        "            dispersion2(df)\n",
        "\n",
        "        elif (option == \"5\"):\n",
        "            cajas(df)\n",
        "\n",
        "        elif (option == '6'):\n",
        "            print(opciones)\n",
        "        \n",
        "        elif (option == '7'):\n",
        "            break\n",
        "        \n",
        "        else:\n",
        "            print(\"Opcion invalida.\")"
      ]
    },
    {
      "cell_type": "code",
      "execution_count": null,
      "id": "715ed428",
      "metadata": {
        "id": "715ed428"
      },
      "outputs": [],
      "source": [
        "def main():\n",
        "    df = gapminder.copy()\n",
        "    menu(df)\n",
        "main()"
      ]
    },
    {
      "cell_type": "markdown",
      "id": "7fb4f904",
      "metadata": {
        "id": "7fb4f904"
      },
      "source": [
        ""
      ]
    }
  ],
  "metadata": {
    "kernelspec": {
      "display_name": "Python 3 (ipykernel)",
      "language": "python",
      "name": "python3"
    },
    "language_info": {
      "codemirror_mode": {
        "name": "ipython",
        "version": 3
      },
      "file_extension": ".py",
      "mimetype": "text/x-python",
      "name": "python",
      "nbconvert_exporter": "python",
      "pygments_lexer": "ipython3",
      "version": "3.9.12"
    },
    "colab": {
      "name": "Taller3 _punto1.ipynb",
      "provenance": []
    }
  },
  "nbformat": 4,
  "nbformat_minor": 5
}