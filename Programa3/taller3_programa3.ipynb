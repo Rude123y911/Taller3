{
  "nbformat": 4,
  "nbformat_minor": 0,
  "metadata": {
    "colab": {
      "name": "taller3_programa3.ipynb",
      "provenance": []
    },
    "kernelspec": {
      "name": "python3",
      "display_name": "Python 3"
    },
    "language_info": {
      "name": "python"
    }
  },
  "cells": [
    {
      "cell_type": "code",
      "source": [
        "import random\n",
        "import matplotlib.pyplot as plt\n",
        "import numpy as np\n",
        "from scipy.stats import bernoulli\n",
        "from scipy import stats\n",
        "from scipy.stats import binom\n",
        "from scipy.stats import uniform"
      ],
      "metadata": {
        "id": "GqFpSTiyyv9Z"
      },
      "execution_count": 175,
      "outputs": []
    },
    {
      "cell_type": "markdown",
      "source": [
        "Graficar la función de densidad de una distribuci ́on uniforme.\n",
        "\n",
        "---\n",
        "Graficar la función de densidad de una distribuci ́on Bernoulli.\n",
        "\n",
        "---\n",
        "Graficar la función de densidad de una distribuci ́on Poisson.\n",
        "\n",
        "---\n",
        "Graficar la función de densidad de una distribuci ́on Exponencial.\n",
        "\n",
        "---\n"
      ],
      "metadata": {
        "id": "rnvDigLb0meD"
      }
    },
    {
      "cell_type": "markdown",
      "source": [
        "*Graficar la función de densidad de una distribuci ́on uniforme.*"
      ],
      "metadata": {
        "id": "Xcy4Tb2mhOIt"
      }
    },
    {
      "cell_type": "code",
      "execution_count": 193,
      "metadata": {
        "id": "edpgmGXRDYFh"
      },
      "outputs": [],
      "source": [
        "def uniforme(a, b):\n",
        "  a, b = -11, 20\n",
        "  size = 1000\n",
        "  fig, ax = plt.subplots(1, 1)\n",
        "  # Genrando distribución uniforme\n",
        "  uniform_distribution = uniform(loc=a, scale=b-a)\n",
        "  x = np.linspace(uniform_distribution.pdf(0), uniform_distribution.pdf(1), size)\n",
        "  # Ploteando pdf\n",
        "  pdf = uniform_distribution.pdf(x)\n",
        "  ax.plot(x, pdf, 'r-', lw=5, alpha=0.6, label='pdf')\n",
        "  # Histograma\n",
        "  ax.hist(uniform_distribution.rvs(size=size), density=True, histtype='stepfilled', alpha=0.2)\n",
        "  fig.show()\n",
        "  plt.pause(0.0001)"
      ]
    },
    {
      "cell_type": "markdown",
      "source": [
        "*Graficar la función de densidad de una distribuci ́on Bernoulli.*"
      ],
      "metadata": {
        "id": "eG99Utu3XIQj"
      }
    },
    {
      "cell_type": "code",
      "source": [
        "#Creando una clase bernoulli\n",
        "class bernoulli():    \n",
        "    def rvs(p,size=1):\n",
        "        r_values = list(range(size + 1))\n",
        "        # list of pmf values\n",
        "        dist = [binom.pmf(r, size, p) for r in r_values ]\n",
        "        return dist"
      ],
      "metadata": {
        "id": "hGDeRSSvXXdf"
      },
      "execution_count": 225,
      "outputs": []
    },
    {
      "cell_type": "code",
      "source": [
        "def pBernoulli(p):\n",
        "  # p es la probabilidad de tener un incidente\n",
        "  size = 10\n",
        "  lista = [*range(size + 1)]\n",
        "  plt.plot(lista, bernoulli.rvs(p,size) )\n",
        "  plt.pause(0.0001)"
      ],
      "metadata": {
        "id": "16kkUc06Xgno"
      },
      "execution_count": 231,
      "outputs": []
    },
    {
      "cell_type": "markdown",
      "source": [
        "*Graficar la función de densidad de una distribuci ́on Poisson.*"
      ],
      "metadata": {
        "id": "ko4JU32WhUXO"
      }
    },
    {
      "cell_type": "code",
      "source": [
        "def poisson(mu):\n",
        "  # mu es el número de eventos \n",
        "  x = lista = [*range((mu*3))]\n",
        "  y = stats.poisson.pmf(x, mu)\n",
        "\n",
        "  plt.plot(x, y)\n",
        "  plt.title(\"distribución de Poisson con mu seleccionada\")\n",
        "  plt.xlabel(\"vector\")\n",
        "  plt.ylabel(\"Probabilidad\")\n",
        "  plt.show()\n",
        "  plt.pause(0.0001)"
      ],
      "metadata": {
        "id": "8e_4JdkOhTcg"
      },
      "execution_count": 200,
      "outputs": []
    },
    {
      "cell_type": "markdown",
      "source": [
        "*Graficar la función de densidad de una distribuci ́on Exponencial.*"
      ],
      "metadata": {
        "id": "wg7psIW1jrX4"
      }
    },
    {
      "cell_type": "code",
      "source": [
        "def exponencial(M):\n",
        "  def generate():\n",
        "      proba = random.random()\n",
        "      max = 0\n",
        "      for i in range(1,M+1):\n",
        "          max += (1/2)**i\n",
        "          if(proba<= max):\n",
        "                return i-1\n",
        "      return generate()\n",
        "  # M es la tasa de ocurrencia de eventos\n",
        "  res = [0 for i in range(M+1)]\n",
        "  for i in range(1000):\n",
        "      res[generate()]+=1\n",
        "  plt.plot([r/1000 for r in res])\n",
        "  plt.pause(0.0001)"
      ],
      "metadata": {
        "id": "L64InSh2lPMd"
      },
      "execution_count": 201,
      "outputs": []
    },
    {
      "cell_type": "code",
      "source": [
        "def main():\n",
        "    opciones = \"\"\"  Opcion (1): Graficar la función de densidad de una distribuci ́on uniforme.\n",
        "  Opcion (2): Graficar la función de densidad de una distribuci ́on Bernoulli.\n",
        "  Opcion (3): Graficar la función de densidad de una distribuci ́on Poisson.\n",
        "  Opcion (4): Graficar la función de densidad de una distribuci ́on Exponencial.\n",
        "  Opcion (5): Volver a mostrar el menú.\n",
        "  Opcion (6): Salir.\"\"\"\n",
        "    \n",
        "    print(opciones)\n",
        "    \n",
        "    while(True):\n",
        "\n",
        "        option = input(\"Ingrese la opcion que deseas ejecutar: \")\n",
        "        if(option == \"1\"):\n",
        "            a = int(input(\"Ingrese el mínimo: \"))\n",
        "            b = int(input(\"Ingrese el máximo: \"))\n",
        "            if a < b:\n",
        "             uniforme(a, b)\n",
        "            else:\n",
        "              print(\"Valores inválidos, por favor intente nuevamente\")\n",
        "        elif (option == \"2\"):\n",
        "          p = float(input(\"Ingrese la probabilidad: \"))\n",
        "          if p>=0:\n",
        "            x = p/100\n",
        "            pBernoulli(x)\n",
        "          else:\n",
        "            print(\"probabilidad inválida, por favor intente nuevamente\")\n",
        "        elif (option == \"3\"):\n",
        "          mu = int(input(\"Ingrese el número de eventos: \"))\n",
        "          if mu>=0:\n",
        "            poisson(mu)\n",
        "          else:\n",
        "            print(\"número de eventos inválido, por favor intente nuevamente\")\n",
        "        elif (option == \"4\"):\n",
        "          M = int(input(\"Ingrese la tasa de ocurrencia de eventos: \"))\n",
        "          if M>=0:\n",
        "            exponencial(M)\n",
        "          else:\n",
        "            print(\"número inválido, por favor intente nuevamente\")\n",
        "        elif (option == \"5\"):\n",
        "            print(opciones)\n",
        "        elif (option == '6'):\n",
        "            break\n",
        "        else:\n",
        "            print(\"Opcion invalida.\")"
      ],
      "metadata": {
        "id": "gFwK_JcK40Wb"
      },
      "execution_count": 230,
      "outputs": []
    },
    {
      "cell_type": "code",
      "source": [
        "main()"
      ],
      "metadata": {
        "id": "GoUxboZP_Sf4"
      },
      "execution_count": null,
      "outputs": []
    }
  ]
}